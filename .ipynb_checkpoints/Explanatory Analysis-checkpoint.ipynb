{
 "cells": [
  {
   "cell_type": "markdown",
   "metadata": {},
   "source": [
    "# Explantory Data Analysis"
   ]
  },
  {
   "cell_type": "markdown",
   "metadata": {},
   "source": [
    "## Python Packages Used "
   ]
  },
  {
   "cell_type": "code",
   "execution_count": 1,
   "metadata": {
    "collapsed": false
   },
   "outputs": [
    {
     "name": "stderr",
     "output_type": "stream",
     "text": [
      "C:\\Users\\Sabelgk\\Anaconda3\\lib\\site-packages\\sklearn\\cross_validation.py:44: DeprecationWarning: This module was deprecated in version 0.18 in favor of the model_selection module into which all the refactored classes and functions are moved. Also note that the interface of the new CV iterators are different from that of this module. This module will be removed in 0.20.\n",
      "  \"This module will be removed in 0.20.\", DeprecationWarning)\n"
     ]
    }
   ],
   "source": [
    "# Libraries for importing dataaset and statistical analysis \n",
    "import pandas as pd\n",
    "import numpy as np\n",
    "import pandas.io.sql as pd_sql\n",
    "import sqlite3 as sql\n",
    "import pandas as pd\n",
    "import csv \n",
    "\n",
    "# Libraries for visualization and feature selection \n",
    "%matplotlib inline\n",
    "import seaborn as sns \n",
    "from pandas.tools.plotting import scatter_matrix\n",
    "import matplotlib.pyplot as plt\n",
    "\n",
    "\n",
    "# Libraries for label encoding \n",
    "\n",
    "from sklearn.preprocessing import LabelEncoder\n",
    "\n",
    "# Libraries for modelling \n",
    "\n",
    "from sklearn import cross_validation as cv\n",
    "from sklearn.cross_validation import train_test_split as tts\n",
    "\n",
    "from sklearn.linear_model import Ridge\n",
    "from sklearn.linear_model import RandomizedLasso\n",
    "from sklearn.linear_model import LinearRegression\n",
    "from sklearn.ensemble import RandomForestRegressor\n",
    "\n",
    "from sklearn.metrics import r2_score\n",
    "from sklearn.metrics import mean_squared_error as mse"
   ]
  },
  {
   "cell_type": "markdown",
   "metadata": {},
   "source": [
    "## Load and verify Data "
   ]
  },
  {
   "cell_type": "markdown",
   "metadata": {},
   "source": [
    "Load compiled raw data that include all features assumed to impact days on market as well as features created to enable analysis and modeling. "
   ]
  },
  {
   "cell_type": "code",
   "execution_count": null,
   "metadata": {
    "collapsed": false,
    "scrolled": false
   },
   "outputs": [],
   "source": [
    "HousingData =pd.read_csv(\"Raw_Data_W.O_school_rank.csv\")\n",
    "HousingData_DF=pd.DataFrame(HousingData)\n",
    "HousingData_DF[1:3]"
   ]
  },
  {
   "cell_type": "code",
   "execution_count": null,
   "metadata": {
    "collapsed": false
   },
   "outputs": [],
   "source": [
    "print (\"Total Instance and features compiled on raw data\")\n",
    "print (HousingData_DF.shape)\n",
    "print (HousingData_DF.columns)\n",
    "\n"
   ]
  },
  {
   "cell_type": "markdown",
   "metadata": {},
   "source": [
    "# # Further wrangling data for anlaysis "
   ]
  },
  {
   "cell_type": "markdown",
   "metadata": {},
   "source": [
    "## Label Encoding"
   ]
  },
  {
   "cell_type": "code",
   "execution_count": null,
   "metadata": {
    "collapsed": false
   },
   "outputs": [],
   "source": [
    "## Encoding MLID\n",
    "\n",
    "#fit\n",
    "\n",
    "MLID = LabelEncoder() \n",
    "MLID.fit(HousingData_DF.ML_ID)\n",
    "\n",
    "# Transform\n",
    "HousingData_DF['Encoded_MLID'] = (MLID.transform(HousingData_DF.ML_ID))\n",
    "\n",
    "\n",
    "HousingData_DF.head()"
   ]
  },
  {
   "cell_type": "code",
   "execution_count": null,
   "metadata": {
    "collapsed": false,
    "scrolled": false
   },
   "outputs": [],
   "source": [
    "#drop some columns you probably won't use for analysis \n",
    "HousingData_Analysis=HousingData_DF.drop(['TotalTaxes2','Stat','Address','ML_ID'],1)\n",
    "HousingData_Analysis[1:3]\n",
    "\n"
   ]
  },
  {
   "cell_type": "code",
   "execution_count": null,
   "metadata": {
    "collapsed": false
   },
   "outputs": [],
   "source": [
    "#Convert the list date, month and year to date \n",
    "from datetime import datetime\n",
    "HousingData_Analysis['ListDate']=pd.to_datetime(HousingData_Analysis['ListDate'], format='%Y%m%d')\n",
    "HousingData_Analysis['IndexYear_ListDate'] = pd.to_datetime(HousingData_Analysis['IndexYear_ListDate'])\n",
    "HousingData_Analysis['IndexMonth'] = pd.to_datetime(HousingData_Analysis['IndexMonth'])\n",
    "HousingData_Analysis['IndexMonth_CloseDate'] = pd.to_datetime(HousingData_Analysis['IndexMonth_CloseDate'])\n",
    "HousingData_Analysis['IndexYear_CloseDate']= pd.to_datetime(HousingData_Analysis['IndexYear_CloseDate'])\n",
    "HousingData_Analysis['CloseDate'] = pd.to_datetime(HousingData_Analysis['CloseDate'])\n",
    "HousingData_Analysis['IndexYear_No_ListDate'] = pd.to_datetime(HousingData_Analysis['IndexYear_No_ListDate'])\n",
    "HousingData_Analysis['IndexMonth_No_CloseDate'] = pd.to_datetime(HousingData_Analysis['IndexMonth_No_CloseDate'])\n",
    "HousingData_Analysis.info()"
   ]
  },
  {
   "cell_type": "markdown",
   "metadata": {},
   "source": [
    "## Initial Data Analysis "
   ]
  },
  {
   "cell_type": "code",
   "execution_count": null,
   "metadata": {
    "collapsed": false
   },
   "outputs": [],
   "source": [
    "plt.scatter(HousingData_Analysis['ListDate'], HousingData_Analysis['DOMP'])"
   ]
  },
  {
   "cell_type": "code",
   "execution_count": null,
   "metadata": {
    "collapsed": false
   },
   "outputs": [],
   "source": [
    "#Plotting DOMP over list date \n",
    "import plotly.plotly as py\n",
    "import plotly.graph_objs as go\n",
    "\n",
    "x = datetime(year=HousingData_Analysis['IndexYear_ListDate'], month= HousingData_Analysis['IndexMonth']\n",
    ",day= HousingData_Analysis['ListDate'])\n",
    "y=HousingData_Analysis['DOMP']\n",
    "data = [go.Scatter(x=x,y=HousingData_Analysis['DOMP'])]\n",
    "py.iplot(data)\n",
    "#Plotting close price over list dates\n",
    "\n"
   ]
  },
  {
   "cell_type": "code",
   "execution_count": null,
   "metadata": {
    "collapsed": false
   },
   "outputs": [],
   "source": [
    "#Summary Statistics \n",
    "HousingData_Analysis.describe()"
   ]
  },
  {
   "cell_type": "code",
   "execution_count": null,
   "metadata": {
    "collapsed": false
   },
   "outputs": [],
   "source": [
    "# Histogram of all features\n",
    "HousingData.hist(figsize=(15,20))"
   ]
  },
  {
   "cell_type": "code",
   "execution_count": null,
   "metadata": {
    "collapsed": false
   },
   "outputs": [],
   "source": [
    "#Scatter plot of certain features \n",
    "\n",
    "Data = HousingData[['ListPrice','ClosePrice','YearBuilt','DOMP','Zip','MedianValuePerSqft', 'Turnover','IndexMonth']]\n",
    "scatter_matrix(Data, alpha=0.2, figsize=(18,18), diagonal='kde')"
   ]
  },
  {
   "cell_type": "code",
   "execution_count": null,
   "metadata": {
    "collapsed": false
   },
   "outputs": [],
   "source": [
    "#Pair plot of some of the features \n",
    "\n",
    "sns.pairplot(data = HousingData[['ListPrice','ClosePrice','DOMP','Zip','MedianValuePerSqft', 'Turnover','IndexMonth']],dropna=True)\n"
   ]
  },
  {
   "cell_type": "code",
   "execution_count": null,
   "metadata": {
    "collapsed": false
   },
   "outputs": [],
   "source": [
    "#Correlation Matrix \n",
    "HousingData_CorrelationMatrix = pd.DataFrame(HousingData.corr())\n",
    "print(HousingData_CorrelationMatrix)"
   ]
  },
  {
   "cell_type": "markdown",
   "metadata": {},
   "source": [
    "From the above correlation matrix we can see that list price has high postive correlation with close price. DOMP don't seem to have any correlation with any features. "
   ]
  },
  {
   "cell_type": "code",
   "execution_count": null,
   "metadata": {
    "collapsed": false
   },
   "outputs": [],
   "source": [
    "#Covariance Matrix \n",
    "HousingData_CovarianceMatrix = pd.DataFrame(HousingData.cov())\n",
    "print(HousingData_CovarianceMatrix)"
   ]
  },
  {
   "cell_type": "code",
   "execution_count": null,
   "metadata": {
    "collapsed": false
   },
   "outputs": [],
   "source": [
    "#Create Correlation Matrix plot \n",
    "\n",
    "# Generate a mask for the upper triangle\n",
    "mask = np.zeros_like(HousingData_CorrelationMatrix, dtype=np.bool)\n",
    "mask[np.triu_indices_from(mask)] = True\n",
    "\n",
    "# Set up the matplotlib figure\n",
    "f, ax = plt.subplots(figsize=(11, 9))\n",
    "\n",
    "# Generate a custom diverging colormap\n",
    "cmap = sns.diverging_palette(220, 10, as_cmap=True)\n",
    "\n",
    "# Draw the heatmap with the mask and correct aspect ratio\n",
    "sns.heatmap(HousingData_CovarianceMatrix, mask=mask, cmap=cmap, vmax=.3,\n",
    "            square=True, xticklabels=5, yticklabels=5,\n",
    "            linewidths=.5, cbar_kws={\"shrink\": .5}, ax=ax)"
   ]
  },
  {
   "cell_type": "code",
   "execution_count": null,
   "metadata": {
    "collapsed": false
   },
   "outputs": [],
   "source": [
    "#Box plot of DOMP per zip code\n",
    "\n",
    "g = sns.FacetGrid(HousingData, col='Zip', size=4, aspect=.8)\n",
    "g = g.map(sns.boxplot, 'DOMP', 'ClosePrice')\n",
    "sns.plt.show()"
   ]
  },
  {
   "cell_type": "code",
   "execution_count": null,
   "metadata": {
    "collapsed": true
   },
   "outputs": [],
   "source": []
  }
 ],
 "metadata": {
  "anaconda-cloud": {},
  "kernelspec": {
   "display_name": "Python [Root]",
   "language": "python",
   "name": "Python [Root]"
  },
  "language_info": {
   "codemirror_mode": {
    "name": "ipython",
    "version": 3
   },
   "file_extension": ".py",
   "mimetype": "text/x-python",
   "name": "python",
   "nbconvert_exporter": "python",
   "pygments_lexer": "ipython3",
   "version": "3.5.2"
  }
 },
 "nbformat": 4,
 "nbformat_minor": 0
}
