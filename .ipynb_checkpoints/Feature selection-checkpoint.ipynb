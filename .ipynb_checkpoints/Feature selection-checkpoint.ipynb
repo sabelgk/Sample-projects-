{
 "cells": [
  {
   "cell_type": "markdown",
   "metadata": {},
   "source": [
    "# Feature selection "
   ]
  },
  {
   "cell_type": "markdown",
   "metadata": {},
   "source": [
    "# 1. Property data feature selection \n",
    "\n",
    "Selecting the features on the property that has signal and better predictor for our model. "
   ]
  },
  {
   "cell_type": "markdown",
   "metadata": {},
   "source": [
    "## Import Package "
   ]
  },
  {
   "cell_type": "code",
   "execution_count": 1,
   "metadata": {
    "collapsed": true
   },
   "outputs": [],
   "source": [
    "import os\n",
    "import zipfile\n",
    "import requests\n",
    "import pandas as pd\n",
    "\n",
    "# Packages for feature selection and modeling \n",
    "from sklearn.decomposition import PCA\n",
    "from sklearn.feature_selection import SelectFromModel\n",
    "from sklearn.linear_model import Ridge, Lasso, ElasticNet\n",
    "from sklearn.discriminant_analysis import LinearDiscriminantAnalysis as LDA"
   ]
  },
  {
   "cell_type": "markdown",
   "metadata": {},
   "source": [
    "## Fetch Data "
   ]
  },
  {
   "cell_type": "code",
   "execution_count": 2,
   "metadata": {
    "collapsed": false,
    "scrolled": true
   },
   "outputs": [
    {
     "name": "stdout",
     "output_type": "stream",
     "text": [
      "<class 'pandas.core.frame.DataFrame'>\n",
      "RangeIndex: 21687 entries, 0 to 21686\n",
      "Data columns (total 77 columns):\n",
      "Unnamed: 0                                    21687 non-null int64\n",
      "ListPrice2                                    21687 non-null int64\n",
      "ClosePrice2                                   21687 non-null int64\n",
      "Bedrooms                                      21687 non-null int64\n",
      "BathsFull                                     21687 non-null int64\n",
      "BathsHalf                                     21687 non-null float64\n",
      "Levels                                        21687 non-null int64\n",
      "Fireplaces                                    21687 non-null int64\n",
      "BasementY/N                                   21687 non-null int64\n",
      "Acres                                         21687 non-null float64\n",
      "YearBuilt                                     21687 non-null int64\n",
      "DOMP                                          21687 non-null int64\n",
      "TotalTaxes2                                   21687 non-null float64\n",
      "TaxTotalLivingArea                            21687 non-null float64\n",
      "Zip                                           21687 non-null int64\n",
      "SaleCount                                     21687 non-null int64\n",
      "MedianValuePerSqft                            21687 non-null float64\n",
      "PctOfHomesDecreasingInValues                  21687 non-null float64\n",
      "PctOfHomesIncreasingInValues                  21687 non-null float64\n",
      "Turnover                                      21687 non-null float64\n",
      "Zhvi                                          21687 non-null float64\n",
      "PriceIndex                                    21687 non-null float64\n",
      "FreddieMac15yr                                21687 non-null float64\n",
      "FreddieMac5yrARM                              21687 non-null float64\n",
      "mimi                                          21687 non-null float64\n",
      "mimiStatus                                    21687 non-null float64\n",
      "PropertyCrimes                                21687 non-null float64\n",
      "ViolentCrimes                                 21687 non-null float64\n",
      "Pct16andOverEmployed_2010_14                  21687 non-null float64\n",
      "AvgFamilyIncAdj_2010_14                       21687 non-null float64\n",
      "Pct25andOverWoutHS_2010_14                    21687 non-null float64\n",
      "PctFamiliesOwnChildrenFH_2010_14              21687 non-null float64\n",
      "PctForeignBorn_2010_14                        21687 non-null float64\n",
      "PctHshldCar_2010_14                           21687 non-null float64\n",
      "PctHshldPhone_2010_14                         21687 non-null float64\n",
      "PctOwnerOccupiedHsgUnits_2010_14              21687 non-null float64\n",
      "PctPoorChildren_2010_14                       21687 non-null float64\n",
      "PctPoorElderly_2010_14                        21687 non-null float64\n",
      "PctPoorPersons_2010_14                        21687 non-null float64\n",
      "PctUnemployed_2010_14                         21687 non-null float64\n",
      "PctVacantHsgUnitsForRent_2010_14              21687 non-null float64\n",
      "PropertyLatitude                              21687 non-null float64\n",
      "PropertyLongitude                             21687 non-null float64\n",
      "count_cap_gain_school_km                      21687 non-null int64\n",
      "count_grocery_km                              21687 non-null int64\n",
      "count_ind_school_km                           21687 non-null int64\n",
      "count_metro_bus_km                            21687 non-null int64\n",
      "count_metro_station_km                        21687 non-null int64\n",
      "count_public_school_arts_center_km            21687 non-null int64\n",
      "count_public_school_edu_campus_km             21687 non-null int64\n",
      "count_public_school_elem_km                   21687 non-null int64\n",
      "count_public_school_elem_specialized_km       21687 non-null int64\n",
      "count_public_school_high_km                   21687 non-null int64\n",
      "count_public_school_high_specialized_km       21687 non-null int64\n",
      "count_public_school_mid_km                    21687 non-null int64\n",
      "count_public_school_special_ed_km             21687 non-null int64\n",
      "count_public_school_ye_km                     21687 non-null int64\n",
      "distance_cap_gain_school_km                   21687 non-null float64\n",
      "distance_grocery_km                           21687 non-null float64\n",
      "distance_ind_school_km                        21687 non-null float64\n",
      "distance_metro_bus_km                         21687 non-null float64\n",
      "distance_metro_station_km                     21687 non-null float64\n",
      "distance_public_school_arts_center_km         21687 non-null float64\n",
      "distance_public_school_edu_campus_km          21687 non-null float64\n",
      "distance_public_school_elem_km                21687 non-null float64\n",
      "distance_public_school_elem_specialized_km    21687 non-null float64\n",
      "distance_public_school_high_km                21687 non-null float64\n",
      "distance_public_school_high_specialized_km    21687 non-null float64\n",
      "distance_public_school_mid_km                 21687 non-null float64\n",
      "distance_public_school_special_ed_km          21687 non-null float64\n",
      "distance_public_school_ye_km                  21687 non-null float64\n",
      "CloseDate_dt_year                             21687 non-null int64\n",
      "CloseDate_dt_month                            21687 non-null int64\n",
      "CloseDate_dt_day                              21687 non-null int64\n",
      "ListDate_dt_year                              21687 non-null int64\n",
      "ListDate_dt_month                             21687 non-null int64\n",
      "ListDate_dt_day                               21687 non-null int64\n",
      "dtypes: float64(45), int64(32)\n",
      "memory usage: 12.7 MB\n"
     ]
    }
   ],
   "source": [
    "FM_1 =pd.read_csv(\"C:/Users/Sabelgk/Desktop/all/Data Science/GeorgeTown/Days on Market project/Analysis,Modelling_scripts,results_JB/df_4.csv\")\n",
    "FM_1.info()"
   ]
  },
  {
   "cell_type": "markdown",
   "metadata": {},
   "source": [
    "## Load data to data frame"
   ]
  },
  {
   "cell_type": "code",
   "execution_count": 3,
   "metadata": {
    "collapsed": false
   },
   "outputs": [],
   "source": [
    "FM_1 = pd.DataFrame(FM_1)\n",
    "#Dropping some features which are not predictive\n",
    "FM_1=FM_1.drop(FM_1.columns[[0]], axis=1)\n",
    "FM_1=FM_1.drop('CloseDate_dt_year', axis=1)\n",
    "FM_1=FM_1.drop('CloseDate_dt_month', axis=1)\n",
    "FM_1=FM_1.drop('CloseDate_dt_day', axis=1)\n"
   ]
  },
  {
   "cell_type": "code",
   "execution_count": 4,
   "metadata": {
    "collapsed": false
   },
   "outputs": [],
   "source": [
    "features= FM_1.drop('DOMP', axis=1)\n",
    "labels   = FM_1['DOMP']"
   ]
  },
  {
   "cell_type": "code",
   "execution_count": 5,
   "metadata": {
    "collapsed": false
   },
   "outputs": [
    {
     "data": {
      "text/plain": [
       "['ListPrice2',\n",
       " 'ClosePrice2',\n",
       " 'Bedrooms',\n",
       " 'BathsFull',\n",
       " 'BathsHalf',\n",
       " 'Levels',\n",
       " 'Fireplaces',\n",
       " 'BasementY/N',\n",
       " 'Acres',\n",
       " 'YearBuilt',\n",
       " 'TotalTaxes2',\n",
       " 'TaxTotalLivingArea',\n",
       " 'Zip',\n",
       " 'SaleCount',\n",
       " 'MedianValuePerSqft',\n",
       " 'PctOfHomesDecreasingInValues',\n",
       " 'PctOfHomesIncreasingInValues',\n",
       " 'Turnover',\n",
       " 'Zhvi',\n",
       " 'PriceIndex',\n",
       " 'FreddieMac15yr',\n",
       " 'FreddieMac5yrARM',\n",
       " 'mimi',\n",
       " 'mimiStatus',\n",
       " 'PropertyCrimes',\n",
       " 'ViolentCrimes',\n",
       " 'Pct16andOverEmployed_2010_14',\n",
       " 'AvgFamilyIncAdj_2010_14',\n",
       " 'Pct25andOverWoutHS_2010_14',\n",
       " 'PctFamiliesOwnChildrenFH_2010_14',\n",
       " 'PctForeignBorn_2010_14',\n",
       " 'PctHshldCar_2010_14',\n",
       " 'PctHshldPhone_2010_14',\n",
       " 'PctOwnerOccupiedHsgUnits_2010_14',\n",
       " 'PctPoorChildren_2010_14',\n",
       " 'PctPoorElderly_2010_14',\n",
       " 'PctPoorPersons_2010_14',\n",
       " 'PctUnemployed_2010_14',\n",
       " 'PctVacantHsgUnitsForRent_2010_14',\n",
       " 'PropertyLatitude',\n",
       " 'PropertyLongitude',\n",
       " 'count_cap_gain_school_km',\n",
       " 'count_grocery_km',\n",
       " 'count_ind_school_km',\n",
       " 'count_metro_bus_km',\n",
       " 'count_metro_station_km',\n",
       " 'count_public_school_arts_center_km',\n",
       " 'count_public_school_edu_campus_km',\n",
       " 'count_public_school_elem_km',\n",
       " 'count_public_school_elem_specialized_km',\n",
       " 'count_public_school_high_km',\n",
       " 'count_public_school_high_specialized_km',\n",
       " 'count_public_school_mid_km',\n",
       " 'count_public_school_special_ed_km',\n",
       " 'count_public_school_ye_km',\n",
       " 'distance_cap_gain_school_km',\n",
       " 'distance_grocery_km',\n",
       " 'distance_ind_school_km',\n",
       " 'distance_metro_bus_km',\n",
       " 'distance_metro_station_km',\n",
       " 'distance_public_school_arts_center_km',\n",
       " 'distance_public_school_edu_campus_km',\n",
       " 'distance_public_school_elem_km',\n",
       " 'distance_public_school_elem_specialized_km',\n",
       " 'distance_public_school_high_km',\n",
       " 'distance_public_school_high_specialized_km',\n",
       " 'distance_public_school_mid_km',\n",
       " 'distance_public_school_special_ed_km',\n",
       " 'distance_public_school_ye_km',\n",
       " 'ListDate_dt_year',\n",
       " 'ListDate_dt_month',\n",
       " 'ListDate_dt_day']"
      ]
     },
     "execution_count": 5,
     "metadata": {},
     "output_type": "execute_result"
    }
   ],
   "source": [
    "list(features)"
   ]
  },
  {
   "cell_type": "code",
   "execution_count": 6,
   "metadata": {
    "collapsed": false
   },
   "outputs": [
    {
     "name": "stdout",
     "output_type": "stream",
     "text": [
      "[('ListPrice2', 0.0002505108395795416), ('ClosePrice2', -0.0002569705135940879), ('Bedrooms', -1.7619274230854816), ('BathsFull', 0.6376635510450819), ('BathsHalf', 0.0), ('Levels', -0.7093198453756139), ('Fireplaces', 0.0), ('BasementY/N', -0.0), ('Acres', -0.0), ('YearBuilt', 0.13701349964489914), ('TotalTaxes2', -0.00021381325425380766), ('TaxTotalLivingArea', 0.006650435702015063), ('Zip', -0.005975037914513119), ('SaleCount', -0.9618070079410516), ('MedianValuePerSqft', 0.02259105228508396), ('PctOfHomesDecreasingInValues', 0.4863151559405385), ('PctOfHomesIncreasingInValues', 0.1692631480943377), ('Turnover', 0.0), ('Zhvi', -1.7460245318548062e-06), ('PriceIndex', -1.9031321908018233), ('FreddieMac15yr', 0.0), ('FreddieMac5yrARM', 0.0), ('mimi', 1.7622519015361966), ('mimiStatus', 0.0), ('PropertyCrimes', -0.023325902181099024), ('ViolentCrimes', 0.3972185335077559), ('Pct16andOverEmployed_2010_14', -0.0), ('AvgFamilyIncAdj_2010_14', 4.490315825181301e-05), ('Pct25andOverWoutHS_2010_14', 0.0), ('PctFamiliesOwnChildrenFH_2010_14', 0.12097574889797472), ('PctForeignBorn_2010_14', 0.062610922237876), ('PctHshldCar_2010_14', -0.0), ('PctHshldPhone_2010_14', -0.0), ('PctOwnerOccupiedHsgUnits_2010_14', -0.012403025834882512), ('PctPoorChildren_2010_14', -0.0), ('PctPoorElderly_2010_14', -0.0), ('PctPoorPersons_2010_14', 0.4362706133429746), ('PctUnemployed_2010_14', 0.4855104757253666), ('PctVacantHsgUnitsForRent_2010_14', 0.0), ('PropertyLatitude', -0.0), ('PropertyLongitude', 0.0), ('count_cap_gain_school_km', -0.0), ('count_grocery_km', -0.0), ('count_ind_school_km', 0.0), ('count_metro_bus_km', -0.04494125947512137), ('count_metro_station_km', -0.5772397835794187), ('count_public_school_arts_center_km', -0.0), ('count_public_school_edu_campus_km', 0.0), ('count_public_school_elem_km', -0.4693980327938932), ('count_public_school_elem_specialized_km', -0.0), ('count_public_school_high_km', -0.0), ('count_public_school_high_specialized_km', 0.0), ('count_public_school_mid_km', -0.0), ('count_public_school_special_ed_km', 0.0), ('count_public_school_ye_km', -0.0), ('distance_cap_gain_school_km', -0.9247828264016148), ('distance_grocery_km', 0.0), ('distance_ind_school_km', 0.0), ('distance_metro_bus_km', -0.0), ('distance_metro_station_km', 0.0), ('distance_public_school_arts_center_km', -0.0), ('distance_public_school_edu_campus_km', -0.0), ('distance_public_school_elem_km', 0.0), ('distance_public_school_elem_specialized_km', 0.6037774650318497), ('distance_public_school_high_km', 0.0), ('distance_public_school_high_specialized_km', -0.0), ('distance_public_school_mid_km', 0.16988477648118722), ('distance_public_school_special_ed_km', -0.0), ('distance_public_school_ye_km', 0.8330593936758461), ('ListDate_dt_year', -0.60677820825503), ('ListDate_dt_month', 0.522721498873238), ('ListDate_dt_day', -0.1899899390724203)]\n"
     ]
    },
    {
     "name": "stderr",
     "output_type": "stream",
     "text": [
      "C:\\Users\\Sabelgk\\Anaconda3\\lib\\site-packages\\sklearn\\linear_model\\coordinate_descent.py:484: ConvergenceWarning: Objective did not converge. You might want to increase the number of iterations. Fitting data with very small alpha may cause precision problems.\n",
      "  ConvergenceWarning)\n"
     ]
    }
   ],
   "source": [
    "model = Lasso()\n",
    "model.fit(features, labels)\n",
    "print(list(zip(features, model.coef_.tolist())))"
   ]
  },
  {
   "cell_type": "markdown",
   "metadata": {},
   "source": [
    "## Ridge Regression (L2 Regularization)"
   ]
  },
  {
   "cell_type": "code",
   "execution_count": 7,
   "metadata": {
    "collapsed": false
   },
   "outputs": [
    {
     "name": "stdout",
     "output_type": "stream",
     "text": [
      "[('ListPrice2', 0.0002491680034216223), ('ClosePrice2', -0.0002531206631731669), ('Bedrooms', -3.636879770781912), ('BathsFull', 5.052984562273159), ('BathsHalf', 3.667105538115962), ('Levels', -1.047142837188094), ('Fireplaces', 2.3343573120210803), ('BasementY/N', -5.728785619342966), ('Acres', -98.62607543596037), ('YearBuilt', 0.07836068723781223), ('TotalTaxes2', -0.00016486646620085435), ('TaxTotalLivingArea', 0.007090080232044865), ('Zip', -0.26693808370125105), ('SaleCount', -6.276429974386678), ('MedianValuePerSqft', 0.01863254498372969), ('PctOfHomesDecreasingInValues', 0.4594546579444962), ('PctOfHomesIncreasingInValues', 0.1834740853671708), ('Turnover', -0.19518752563318156), ('Zhvi', 8.735471876139104e-05), ('PriceIndex', -1.5456648068862553), ('FreddieMac15yr', 14.071894983121934), ('FreddieMac5yrARM', -33.6290618668874), ('mimi', 2.8776956479684), ('mimiStatus', -0.36570767819858624), ('PropertyCrimes', -0.00981407092724452), ('ViolentCrimes', -0.2335183386979139), ('Pct16andOverEmployed_2010_14', 0.8992797361019473), ('AvgFamilyIncAdj_2010_14', -0.0001755257888174839), ('Pct25andOverWoutHS_2010_14', -1.6097318470036195), ('PctFamiliesOwnChildrenFH_2010_14', 0.6808427474108302), ('PctForeignBorn_2010_14', 0.8009506658192614), ('PctHshldCar_2010_14', -0.5551717389249117), ('PctHshldPhone_2010_14', 5.25704464357611), ('PctOwnerOccupiedHsgUnits_2010_14', 0.7271668106019986), ('PctPoorChildren_2010_14', -0.2440424664730158), ('PctPoorElderly_2010_14', -0.2952891757308782), ('PctPoorPersons_2010_14', 3.2816657376916427), ('PctUnemployed_2010_14', -0.15815898051296434), ('PctVacantHsgUnitsForRent_2010_14', 0.7229472604955416), ('PropertyLatitude', -96.80902210453797), ('PropertyLongitude', -16.677283710602545), ('count_cap_gain_school_km', -1.810919583799175), ('count_grocery_km', 0.35606610340248745), ('count_ind_school_km', -0.6894039693790722), ('count_metro_bus_km', -0.08276884789791651), ('count_metro_station_km', -0.1373656382115003), ('count_public_school_arts_center_km', -7.7222516114543875), ('count_public_school_edu_campus_km', -4.81499084931443), ('count_public_school_elem_km', -0.8237423709084768), ('count_public_school_elem_specialized_km', -3.347958182718403), ('count_public_school_high_km', -4.9119854742766975), ('count_public_school_high_specialized_km', 6.833401132757369), ('count_public_school_mid_km', -1.7125057425931802), ('count_public_school_special_ed_km', -3.1901187583960016), ('count_public_school_ye_km', 0.10121602726124063), ('distance_cap_gain_school_km', -5.49523338236792), ('distance_grocery_km', 0.9944963683926424), ('distance_ind_school_km', -0.7256447168844525), ('distance_metro_bus_km', 0.45145218418277633), ('distance_metro_station_km', 2.580304743191803), ('distance_public_school_arts_center_km', -3.284413277101667), ('distance_public_school_edu_campus_km', -1.916784557122089), ('distance_public_school_elem_km', 2.3146103303427155), ('distance_public_school_elem_specialized_km', 7.113523695822208), ('distance_public_school_high_km', -2.8158800109767124), ('distance_public_school_high_specialized_km', 4.799981605886699), ('distance_public_school_mid_km', 1.3713280383086905), ('distance_public_school_special_ed_km', -5.666023730149291), ('distance_public_school_ye_km', 0.4446744405346968), ('ListDate_dt_year', -13.876007290493614), ('ListDate_dt_month', -0.326854106334866), ('ListDate_dt_day', -0.19866328614843004)]\n"
     ]
    }
   ],
   "source": [
    "model = Ridge()\n",
    "model.fit(features, labels)\n",
    "print(list(zip(features, model.coef_.tolist())))"
   ]
  },
  {
   "cell_type": "markdown",
   "metadata": {},
   "source": [
    "## ElasticNet"
   ]
  },
  {
   "cell_type": "code",
   "execution_count": 38,
   "metadata": {
    "collapsed": false
   },
   "outputs": [
    {
     "name": "stdout",
     "output_type": "stream",
     "text": [
      "[('ListPrice2', 0.00025090294215361403), ('ClosePrice2', -0.0002580916701694846), ('Bedrooms', -1.2949863297093391), ('BathsFull', 0.8334086481713127), ('BathsHalf', 0.3795980450675869), ('Levels', -0.9110144680693154), ('Fireplaces', 0.6530230889458223), ('BasementY/N', -0.838875342314781), ('Acres', -0.1316525025398106), ('YearBuilt', 0.1378958893441807), ('TotalTaxes2', -0.0002176423396753852), ('TaxTotalLivingArea', 0.006105359572580942), ('Zip', -0.10391725948334103), ('SaleCount', -0.9969881435504729), ('MedianValuePerSqft', 0.029176537685281532), ('PctOfHomesDecreasingInValues', 0.5295390092456785), ('PctOfHomesIncreasingInValues', 0.2099217499381208), ('Turnover', 0.2766573612428229), ('Zhvi', 1.438096748077536e-06), ('PriceIndex', -1.7235196617143715), ('FreddieMac15yr', 0.3823077556427437), ('FreddieMac5yrARM', 0.1494565576168533), ('mimi', 1.3779177145209887), ('mimiStatus', 0.29281208939619785), ('PropertyCrimes', -0.029814377499176762), ('ViolentCrimes', 0.4442375164355959), ('Pct16andOverEmployed_2010_14', -0.01715487969594479), ('AvgFamilyIncAdj_2010_14', 5.017056211902697e-05), ('Pct25andOverWoutHS_2010_14', 0.17686643038568542), ('PctFamiliesOwnChildrenFH_2010_14', 0.12876324150709748), ('PctForeignBorn_2010_14', 0.0757356449305883), ('PctHshldCar_2010_14', -0.13732647487810878), ('PctHshldPhone_2010_14', 0.0), ('PctOwnerOccupiedHsgUnits_2010_14', 0.02981002910742144), ('PctPoorChildren_2010_14', 0.0), ('PctPoorElderly_2010_14', -0.23176829205076493), ('PctPoorPersons_2010_14', 0.4395288041759542), ('PctUnemployed_2010_14', 0.678445484623068), ('PctVacantHsgUnitsForRent_2010_14', 0.02316132670101667), ('PropertyLatitude', -0.0), ('PropertyLongitude', 0.0), ('count_cap_gain_school_km', -0.0), ('count_grocery_km', -0.05982783733127858), ('count_ind_school_km', 0.025272589412038388), ('count_metro_bus_km', -0.03334479073899096), ('count_metro_station_km', -0.5910611719075417), ('count_public_school_arts_center_km', -0.23189552521534113), ('count_public_school_edu_campus_km', -0.0), ('count_public_school_elem_km', -0.6897766873667742), ('count_public_school_elem_specialized_km', -0.24306045398755163), ('count_public_school_high_km', -0.4653307192767562), ('count_public_school_high_specialized_km', 0.14652680724666853), ('count_public_school_mid_km', -0.14940918035675355), ('count_public_school_special_ed_km', -0.0), ('count_public_school_ye_km', -0.14823750604651592), ('distance_cap_gain_school_km', -0.9211281733293201), ('distance_grocery_km', 0.16774404121005937), ('distance_ind_school_km', -0.0), ('distance_metro_bus_km', -0.038077324284912395), ('distance_metro_station_km', 0.17676621793942635), ('distance_public_school_arts_center_km', 0.0), ('distance_public_school_edu_campus_km', -0.14761056544818701), ('distance_public_school_elem_km', -0.0), ('distance_public_school_elem_specialized_km', 0.7299922400823623), ('distance_public_school_high_km', 0.0), ('distance_public_school_high_specialized_km', -0.0), ('distance_public_school_mid_km', 0.6662185997871486), ('distance_public_school_special_ed_km', -0.023213364584402353), ('distance_public_school_ye_km', 0.669349848226052), ('ListDate_dt_year', -0.9252907375094844), ('ListDate_dt_month', 0.5250900739854849), ('ListDate_dt_day', -0.19987040937201267)]\n"
     ]
    },
    {
     "name": "stderr",
     "output_type": "stream",
     "text": [
      "C:\\Users\\Sabelgk\\Anaconda3\\lib\\site-packages\\sklearn\\linear_model\\coordinate_descent.py:484: ConvergenceWarning: Objective did not converge. You might want to increase the number of iterations. Fitting data with very small alpha may cause precision problems.\n",
      "  ConvergenceWarning)\n"
     ]
    }
   ],
   "source": [
    "model = ElasticNet(l1_ratio=0.10)\n",
    "model.fit(features, labels)\n",
    "print(list(zip(features, model.coef_.tolist())))"
   ]
  },
  {
   "cell_type": "markdown",
   "metadata": {},
   "source": [
    "## Transformer methods"
   ]
  },
  {
   "cell_type": "markdown",
   "metadata": {},
   "source": [
    "### SelectFromModel()"
   ]
  },
  {
   "cell_type": "code",
   "execution_count": 39,
   "metadata": {
    "collapsed": false
   },
   "outputs": [
    {
     "name": "stdout",
     "output_type": "stream",
     "text": [
      "['ListPrice2', 'ClosePrice2', 'Bedrooms', 'BathsFull', 'Levels', 'YearBuilt', 'TotalTaxes2', 'TaxTotalLivingArea', 'Zip', 'SaleCount', 'MedianValuePerSqft', 'PctOfHomesDecreasingInValues', 'PctOfHomesIncreasingInValues', 'PriceIndex', 'mimi', 'PropertyCrimes', 'ViolentCrimes', 'AvgFamilyIncAdj_2010_14', 'PctFamiliesOwnChildrenFH_2010_14', 'PctForeignBorn_2010_14', 'PctOwnerOccupiedHsgUnits_2010_14', 'PctPoorPersons_2010_14', 'PctUnemployed_2010_14', 'count_metro_bus_km', 'count_metro_station_km', 'count_public_school_elem_km', 'distance_cap_gain_school_km', 'distance_public_school_elem_specialized_km', 'distance_public_school_mid_km', 'distance_public_school_ye_km', 'ListDate_dt_year', 'ListDate_dt_month', 'ListDate_dt_day']\n"
     ]
    },
    {
     "name": "stderr",
     "output_type": "stream",
     "text": [
      "C:\\Users\\Sabelgk\\Anaconda3\\lib\\site-packages\\sklearn\\linear_model\\coordinate_descent.py:484: ConvergenceWarning: Objective did not converge. You might want to increase the number of iterations. Fitting data with very small alpha may cause precision problems.\n",
      "  ConvergenceWarning)\n"
     ]
    }
   ],
   "source": [
    "# Lasso \n",
    "model = Lasso()\n",
    "sfm = SelectFromModel(model)\n",
    "sfm.fit(features, labels)\n",
    "print(list(features[sfm.get_support(indices=True)]))"
   ]
  },
  {
   "cell_type": "code",
   "execution_count": 41,
   "metadata": {
    "collapsed": false
   },
   "outputs": [
    {
     "name": "stdout",
     "output_type": "stream",
     "text": [
      "['BasementY/N', 'Acres', 'SaleCount', 'FreddieMac15yr', 'FreddieMac5yrARM', 'PropertyLatitude', 'PropertyLongitude', 'count_public_school_arts_center_km', 'count_public_school_high_specialized_km', 'distance_public_school_elem_specialized_km', 'distance_public_school_special_ed_km', 'ListDate_dt_year']\n"
     ]
    }
   ],
   "source": [
    "# Ridge\n",
    "model = Ridge()\n",
    "sfm = SelectFromModel(model)\n",
    "sfm.fit(features, labels)\n",
    "print(list(features[sfm.get_support(indices=True)]))"
   ]
  },
  {
   "cell_type": "code",
   "execution_count": 42,
   "metadata": {
    "collapsed": false
   },
   "outputs": [
    {
     "name": "stdout",
     "output_type": "stream",
     "text": [
      "['Bedrooms', 'BathsFull', 'Levels', 'Fireplaces', 'BasementY/N', 'SaleCount', 'PctOfHomesDecreasingInValues', 'PriceIndex', 'mimi', 'ViolentCrimes', 'PctPoorPersons_2010_14', 'PctUnemployed_2010_14', 'count_metro_station_km', 'count_public_school_elem_km', 'distance_cap_gain_school_km', 'distance_public_school_elem_specialized_km', 'distance_public_school_mid_km', 'distance_public_school_ye_km', 'ListDate_dt_year', 'ListDate_dt_month']\n"
     ]
    },
    {
     "name": "stderr",
     "output_type": "stream",
     "text": [
      "C:\\Users\\Sabelgk\\Anaconda3\\lib\\site-packages\\sklearn\\linear_model\\coordinate_descent.py:484: ConvergenceWarning: Objective did not converge. You might want to increase the number of iterations. Fitting data with very small alpha may cause precision problems.\n",
      "  ConvergenceWarning)\n"
     ]
    }
   ],
   "source": [
    "# Elastic \n",
    "\n",
    "model = ElasticNet()\n",
    "sfm = SelectFromModel(model)\n",
    "sfm.fit(features, labels)\n",
    "print(list(features[sfm.get_support(indices=True)]))"
   ]
  },
  {
   "cell_type": "markdown",
   "metadata": {},
   "source": [
    "## Dimensionality Reduction "
   ]
  },
  {
   "cell_type": "markdown",
   "metadata": {},
   "source": [
    "### Principal component analysis (PCA)"
   ]
  },
  {
   "cell_type": "code",
   "execution_count": 43,
   "metadata": {
    "collapsed": false
   },
   "outputs": [
    {
     "name": "stdout",
     "output_type": "stream",
     "text": [
      "[[-273675.39908336   40232.73482896]\n",
      " [-388863.05111241 -126121.94809521]\n",
      " [-323138.35041859 -112002.53462925]\n",
      " ..., \n",
      " [-304654.73416208    6656.0861429 ]\n",
      " [-255956.01626167   27716.39666583]\n",
      " [-153193.62673337   15430.84824632]]\n"
     ]
    }
   ],
   "source": [
    "pca = PCA(n_components=2)\n",
    "new_features = pca.fit(features).transform(features)\n",
    "print(new_features)"
   ]
  },
  {
   "cell_type": "markdown",
   "metadata": {},
   "source": [
    "### Linear discriminant analysis (LDA)"
   ]
  },
  {
   "cell_type": "code",
   "execution_count": 45,
   "metadata": {
    "collapsed": false
   },
   "outputs": [
    {
     "name": "stdout",
     "output_type": "stream",
     "text": [
      "[[-0.33563833 -0.01084479]\n",
      " [ 0.14932709  1.23048455]\n",
      " [ 0.31535581  1.11595512]\n",
      " ..., \n",
      " [-0.7226007   0.64076217]\n",
      " [-0.85372974  0.25453788]\n",
      " [-1.65684798  0.69793743]]\n"
     ]
    }
   ],
   "source": [
    "lda = LDA(n_components=2)\n",
    "new_features = lda.fit(features, labels).transform(features)\n",
    "print(new_features)"
   ]
  },
  {
   "cell_type": "code",
   "execution_count": null,
   "metadata": {
    "collapsed": true
   },
   "outputs": [],
   "source": []
  }
 ],
 "metadata": {
  "anaconda-cloud": {},
  "kernelspec": {
   "display_name": "Python [Root]",
   "language": "python",
   "name": "Python [Root]"
  },
  "language_info": {
   "codemirror_mode": {
    "name": "ipython",
    "version": 3
   },
   "file_extension": ".py",
   "mimetype": "text/x-python",
   "name": "python",
   "nbconvert_exporter": "python",
   "pygments_lexer": "ipython3",
   "version": "3.5.2"
  }
 },
 "nbformat": 4,
 "nbformat_minor": 0
}
