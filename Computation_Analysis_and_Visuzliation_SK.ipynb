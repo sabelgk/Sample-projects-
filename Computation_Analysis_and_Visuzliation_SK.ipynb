{
 "cells": [
  {
   "cell_type": "markdown",
   "metadata": {},
   "source": [
    "# Housing Days On Market Exploratory Analysis and Visualization\n",
    "\n",
    "## Information\n",
    "Using the output file of Data Preparation for analysis and modeling notebook ‘df_data_inspection_cleaning_output.csv’ which has 13,725 instances and 107features, this note book does exploratory analysis and visualization. \n",
    "\n",
    "We have substantially reduced our features to 44 which are of interest to our analysis and performed some computation analysis using summary statistics and histograms. \n",
    "\n",
    "Contrary to our initial hypothesis, the correlation matrix and correlation heat map showed that all of the features included in the analysis have no relationship with days on market. However, we noticed high correlation of some of our features with list price, close date month year and median home value per square feet.\n",
    "owever, we noticed high correlation of some of our features with list price, close date month year and median home value per square feet. \n",
    "\n",
    "\n",
    "### Environment Information:\n",
    "\n",
    "Python: 2.7\n",
    "\n",
    "#### Contributed by: Sabel Kassa"
   ]
  },
  {
   "cell_type": "markdown",
   "metadata": {},
   "source": [
    "## Python Package(s) Used"
   ]
  },
  {
   "cell_type": "code",
   "execution_count": 1,
   "metadata": {
    "collapsed": true
   },
   "outputs": [],
   "source": [
    "import datetime as dt\n",
    "import numpy as np\n",
    "import pandas as pd\n",
    "import time\n",
    "from scipy import stats"
   ]
  },
  {
   "cell_type": "code",
   "execution_count": 2,
   "metadata": {
    "collapsed": false
   },
   "outputs": [],
   "source": [
    "import matplotlib.pyplot as plt\n",
    "from pandas.tools.plotting import parallel_coordinates, radviz, lag_plot, bootstrap_plot\n",
    "from scipy.stats import probplot, skew, skewtest, kurtosis, kurtosistest, ppcc_plot, ppcc_max\n",
    "import seaborn as sns\n",
    "import plotly.plotly as py\n",
    "import plotly.graph_objs as go\n",
    "import plotly.tools as tls\n",
    "\n",
    "\n",
    "\n",
    "\n",
    "%matplotlib inline\n",
    "plt.style.use('seaborn-whitegrid')\n",
    "\n",
    "from bokeh.charts import BoxPlot, output_file, show\n",
    "from bokeh.charts import Histogram, output_file, show\n",
    "from bokeh.plotting import figure\n",
    "from bokeh.layouts import row\n",
    "from bokeh.io import push_notebook,show , output_notebook\n",
    "from bokeh.sampledata.autompg import autompg as df\n",
    "from bokeh.charts import defaults, vplot, hplot, show, output_file\n",
    "from bokeh.charts import TimeSeries, output_file, show"
   ]
  },
  {
   "cell_type": "markdown",
   "metadata": {},
   "source": [
    "### Fetching data\n",
    "\n",
    "Fetching data set from DOM-(Data preparation for analysis and modeling)notebook."
   ]
  },
  {
   "cell_type": "code",
   "execution_count": 3,
   "metadata": {
    "collapsed": false
   },
   "outputs": [
    {
     "name": "stdout",
     "output_type": "stream",
     "text": [
      "<class 'pandas.core.frame.DataFrame'>\n",
      "RangeIndex: 21687 entries, 0 to 21686\n",
      "Data columns (total 79 columns):\n",
      "Unnamed: 0                                    21687 non-null int64\n",
      "ListDate                                      21687 non-null object\n",
      "CloseDate                                     21687 non-null object\n",
      "ListPrice2                                    21687 non-null int64\n",
      "ClosePrice2                                   21687 non-null int64\n",
      "Bedrooms                                      21687 non-null int64\n",
      "BathsFull                                     21687 non-null int64\n",
      "BathsHalf                                     21687 non-null float64\n",
      "Levels                                        21687 non-null int64\n",
      "Fireplaces                                    21687 non-null int64\n",
      "BasementY/N                                   21687 non-null int64\n",
      "Acres                                         21687 non-null float64\n",
      "YearBuilt                                     21687 non-null int64\n",
      "DOMP                                          21687 non-null int64\n",
      "TotalTaxes2                                   21687 non-null float64\n",
      "TaxTotalLivingArea                            21687 non-null float64\n",
      "Zip                                           21687 non-null int64\n",
      "SaleCount                                     21687 non-null int64\n",
      "MedianValuePerSqft                            21687 non-null float64\n",
      "PctOfHomesDecreasingInValues                  21687 non-null float64\n",
      "PctOfHomesIncreasingInValues                  21687 non-null float64\n",
      "Turnover                                      21687 non-null float64\n",
      "Zhvi                                          21687 non-null float64\n",
      "PriceIndex                                    21687 non-null float64\n",
      "FreddieMac15yr                                21687 non-null float64\n",
      "FreddieMac5yrARM                              21687 non-null float64\n",
      "mimi                                          21687 non-null float64\n",
      "mimiStatus                                    21687 non-null float64\n",
      "PropertyCrimes                                21687 non-null float64\n",
      "ViolentCrimes                                 21687 non-null float64\n",
      "Pct16andOverEmployed_2010_14                  21687 non-null float64\n",
      "AvgFamilyIncAdj_2010_14                       21687 non-null float64\n",
      "Pct25andOverWoutHS_2010_14                    21687 non-null float64\n",
      "PctFamiliesOwnChildrenFH_2010_14              21687 non-null float64\n",
      "PctForeignBorn_2010_14                        21687 non-null float64\n",
      "PctHshldCar_2010_14                           21687 non-null float64\n",
      "PctHshldPhone_2010_14                         21687 non-null float64\n",
      "PctOwnerOccupiedHsgUnits_2010_14              21687 non-null float64\n",
      "PctPoorChildren_2010_14                       21687 non-null float64\n",
      "PctPoorElderly_2010_14                        21687 non-null float64\n",
      "PctPoorPersons_2010_14                        21687 non-null float64\n",
      "PctUnemployed_2010_14                         21687 non-null float64\n",
      "PctVacantHsgUnitsForRent_2010_14              21687 non-null float64\n",
      "PropertyLatitude                              21687 non-null float64\n",
      "PropertyLongitude                             21687 non-null float64\n",
      "count_cap_gain_school_km                      21687 non-null int64\n",
      "count_grocery_km                              21687 non-null int64\n",
      "count_ind_school_km                           21687 non-null int64\n",
      "count_metro_bus_km                            21687 non-null int64\n",
      "count_metro_station_km                        21687 non-null int64\n",
      "count_public_school_arts_center_km            21687 non-null int64\n",
      "count_public_school_edu_campus_km             21687 non-null int64\n",
      "count_public_school_elem_km                   21687 non-null int64\n",
      "count_public_school_elem_specialized_km       21687 non-null int64\n",
      "count_public_school_high_km                   21687 non-null int64\n",
      "count_public_school_high_specialized_km       21687 non-null int64\n",
      "count_public_school_mid_km                    21687 non-null int64\n",
      "count_public_school_special_ed_km             21687 non-null int64\n",
      "count_public_school_ye_km                     21687 non-null int64\n",
      "distance_cap_gain_school_km                   21687 non-null float64\n",
      "distance_grocery_km                           21687 non-null float64\n",
      "distance_ind_school_km                        21687 non-null float64\n",
      "distance_metro_bus_km                         21687 non-null float64\n",
      "distance_metro_station_km                     21687 non-null float64\n",
      "distance_public_school_arts_center_km         21687 non-null float64\n",
      "distance_public_school_edu_campus_km          21687 non-null float64\n",
      "distance_public_school_elem_km                21687 non-null float64\n",
      "distance_public_school_elem_specialized_km    21687 non-null float64\n",
      "distance_public_school_high_km                21687 non-null float64\n",
      "distance_public_school_high_specialized_km    21687 non-null float64\n",
      "distance_public_school_mid_km                 21687 non-null float64\n",
      "distance_public_school_special_ed_km          21687 non-null float64\n",
      "distance_public_school_ye_km                  21687 non-null float64\n",
      "CloseDate_dt_year                             21687 non-null int64\n",
      "CloseDate_dt_month                            21687 non-null int64\n",
      "CloseDate_dt_day                              21687 non-null int64\n",
      "ListDate_dt_year                              21687 non-null int64\n",
      "ListDate_dt_month                             21687 non-null int64\n",
      "ListDate_dt_day                               21687 non-null int64\n",
      "dtypes: float64(45), int64(32), object(2)\n",
      "memory usage: 13.1+ MB\n"
     ]
    }
   ],
   "source": [
    "# Import data csv into dataframe\n",
    "df_4 = pd.read_csv('df_4.csv')\n",
    "\n",
    "df_4.info()"
   ]
  },
  {
   "cell_type": "markdown",
   "metadata": {},
   "source": [
    "## Reducing features for analysis  "
   ]
  },
  {
   "cell_type": "code",
   "execution_count": 10,
   "metadata": {
    "collapsed": false
   },
   "outputs": [
    {
     "data": {
      "text/plain": [
       "<matplotlib.legend.Legend at 0xe88fac8>"
      ]
     },
     "execution_count": 10,
     "metadata": {},
     "output_type": "execute_result"
    },
    {
     "data": {
      "text/plain": [
       "<matplotlib.figure.Figure at 0xdc41588>"
      ]
     },
     "metadata": {},
     "output_type": "display_data"
    },
    {
     "data": {
      "image/png": "[encoded data removed]",
      "text/plain": [
       "<matplotlib.figure.Figure at 0xe88fa58>"
      ]
     },
     "metadata": {},
     "output_type": "display_data"
    }
   ],
   "source": [
    "#Created list date month year and close date month year features \n",
    "from datetime import datetime\n",
    "import calendar\n",
    "\n",
    "\n",
    "df_4['Selling Margin']=df_4['ClosePrice2']-df_4['ListPrice2']\n",
    "df_4['ListDate_MonthYear']=(100*df_4['ListDate_dt_year']+df_4['ListDate_dt_month'])\n",
    "df_4['ListDate_MonthYear'].dtype\n",
    "Columns =['Selling Margin','ListDate_dt_year']\n",
    "df_6 =df_4[Columns]\n",
    "df_6.set_index('ListDate_dt_year')\n",
    "\n",
    "#df_6=df_6.cumsum()\n",
    "plt.figure();df_6.plot();plt.legend(loc='best')\n",
    "\n",
    "#df_4['CloseDate_MonthYear']=(100*df_4['CloseDate_dt_year']+df_4['CloseDate_dt_month'])\n"
   ]
  },
  {
   "cell_type": "code",
   "execution_count": null,
   "metadata": {
    "collapsed": false
   },
   "outputs": [],
   "source": [
    "df_4 = df_4.drop('Unnamed: 0', axis = 1)\n"
   ]
  },
  {
   "cell_type": "code",
   "execution_count": null,
   "metadata": {
    "collapsed": false
   },
   "outputs": [],
   "source": [
    "df_4.columns"
   ]
  },
  {
   "cell_type": "code",
   "execution_count": null,
   "metadata": {
    "collapsed": false
   },
   "outputs": [],
   "source": [
    "#Reduced features for analysis and modeling \n",
    "\n",
    "Column_list =[\n",
    "'ListPrice2',\n",
    "'ClosePrice2',\n",
    "'Bedrooms',\n",
    "'BathsFull',\n",
    "'BathsHalf',\n",
    "'BasementY/N',\n",
    "'DOMP',\n",
    "'TaxTotalLivingArea',\n",
    "'Zip',\n",
    "'SaleCount',\n",
    "'MedianValuePerSqft',\n",
    "'PctOfHomesDecreasingInValues',\n",
    "'PctOfHomesIncreasingInValues',\n",
    "'Turnover',\n",
    "'PriceIndex',\n",
    "'FreddieMac15yr',\n",
    "'FreddieMac5yrARM',\n",
    "'mimi',\n",
    "'mimiStatus',\n",
    "'PropertyCrimes',\n",
    "'ViolentCrimes',\n",
    "'Pct16andOverEmployed_2010_14',\n",
    "'AvgFamilyIncAdj_2010_14',\n",
    "'PctFamiliesOwnChildrenFH_2010_14',\n",
    "'PctUnemployed_2010_14',\n",
    "'PctVacantHsgUnitsForRent_2010_14',\n",
    "'MS_SDStarRating',\n",
    "'HS_SDStarRating',\n",
    "'ES_SDStarRating',\n",
    "'count_grocery_km',\n",
    "'count_metro_bus_km',\n",
    "'count_metro_station_km',\n",
    "'count_public_school_elem_km',\n",
    "'count_public_school_high_km',\n",
    "'count_public_school_mid_km',\n",
    "'distance_grocery_km',\n",
    "'distance_metro_bus_km',\n",
    "'distance_metro_station_km',\n",
    "'distance_public_school_elem_km',\n",
    "'distance_public_school_high_km',\n",
    "'distance_public_school_mid_km',\n",
    "'CloseDate_dt_year',\n",
    "'CloseDate_dt_month',\n",
    "'ListDate_dt_year',\n",
    "'ListDate_dt_month']\n",
    "\n",
    "df_5=df_4[Column_list]\n",
    "df_5.info()"
   ]
  },
  {
   "cell_type": "markdown",
   "metadata": {},
   "source": [
    "## Exploratory analysis "
   ]
  },
  {
   "cell_type": "markdown",
   "metadata": {},
   "source": [
    "### Summary Statistics of compiled dataset\n",
    "\n",
    "From the summary statistics below, we can observe high competitive housing market with value of properties in DC is roughly ranges from $300,000 to a maximum of $788,000 with median begin around $600,000. The margin between list price and close price is significantly low showing a very competitive real estate market. In addition, the days on market is also very low with an average of 46 days to 75%of the houses being sold in about 56 days. \n",
    "\n",
    "The area of living is relatively small with about 50% of the properties occupying less than 1000 square feet. Public school ranking is also relatively very low with about 50% of the properties being assigned to public schools with ranking of 3 and 2 based on school digger ranking of less than 70% in school rank. \n",
    "\n",
    "Majority of the properties in DC have increased in value and the average income of more than 50% families is above 145,000. The percentage of vacant housing units in the market for rent is also relatively very low depicting a robust market and relatively stable demographics. \n"
   ]
  },
  {
   "cell_type": "code",
   "execution_count": null,
   "metadata": {
    "collapsed": false
   },
   "outputs": [],
   "source": [
    "# Summary Statistics \n",
    "Summry_Statistics=pd.DataFrame(df_5.describe())\n",
    "Summry_Statistics\n",
    "#Summry_Statistics.to_csv('Summary_Stat2.csv')"
   ]
  },
  {
   "cell_type": "markdown",
   "metadata": {},
   "source": [
    "### Analyzing Distribution of Features"
   ]
  },
  {
   "cell_type": "code",
   "execution_count": null,
   "metadata": {
    "collapsed": false
   },
   "outputs": [],
   "source": [
    "#Plotting distribution certain features using Bokeh. \n",
    "defaults.width = 450\n",
    "defaults.height = 350\n",
    "\n",
    "DOMP_Hist= Histogram(df_5, values= 'DOMP',color ='navy', title=\"Days on Market Distribution\")\n",
    "ListPrice_Hist=Histogram(df_5,values='ListPrice2',color='red',title=\"List Price Distribution\")\n",
    "ClosePrice_Hist=Histogram(df_5,values='ClosePrice2',color='indigo',title=\"Close Price Distribution\")\n",
    "Medval_Hist=Histogram(df_5,values='MedianValuePerSqft',color='green',title=\"Median Value per Square feet Distribution\")\n",
    "HomeDecr_Hist=Histogram(df_5,values='PctOfHomesDecreasingInValues',color='turquoise',title=\"%Properties decreasing in value Distribution\")\n",
    "HomeIncr_Hist=Histogram(df_5,values='PctOfHomesIncreasingInValues',color='orange',title='%Properties increasing in value Distribution')\n",
    "FamilyInc_Hist=Histogram(df_5,values='AvgFamilyIncAdj_2010_14',color='fuchsia',title=\"Average family income distribution\")\n",
    "\n",
    "output_notebook()\n",
    "\n",
    "d= hplot(DOMP_Hist)\n",
    "p = hplot(ListPrice_Hist,ClosePrice_Hist)\n",
    "m= hplot(HomeDecr_Hist,HomeIncr_Hist)\n",
    "v=hplot(Medval_Hist,FamilyInc_Hist)\n",
    "\n",
    "show(vplot(d,p,m,v))\n",
    "\n"
   ]
  },
  {
   "cell_type": "markdown",
   "metadata": {},
   "source": [
    "From the above distribution, we can see that there is high activity around the end of the year followed by the beginning of the year and around summer. "
   ]
  },
  {
   "cell_type": "code",
   "execution_count": null,
   "metadata": {
    "collapsed": false
   },
   "outputs": [],
   "source": [
    "#Histogram of remaining features \n",
    "\n",
    "Column_list =[\n",
    "'Bedrooms',\n",
    "'BathsFull',\n",
    "'BathsHalf',\n",
    "'Turnover',\n",
    "'PriceIndex',\n",
    "'FreddieMac15yr',\n",
    "'FreddieMac5yrARM',\n",
    "'mimi',\n",
    "'PropertyCrimes',\n",
    "'ViolentCrimes',\n",
    "'Pct16andOverEmployed_2010_14',\n",
    "'AvgFamilyIncAdj_2010_14',\n",
    "'PctFamiliesOwnChildrenFH_2010_14',\n",
    "'PctUnemployed_2010_14',\n",
    "'PctVacantHsgUnitsForRent_2010_14',\n",
    "'MS_SDStarRating',\n",
    "'HS_SDStarRating',\n",
    "'ES_SDStarRating',\n",
    "'CloseDate_dt_year',\n",
    "'CloseDate_dt_month',\n",
    "'ListDate_dt_month']\n",
    "df_5a=df_4[Column_list]\n",
    "df_5a.hist(figsize=(25,25))\n",
    "\n"
   ]
  },
  {
   "cell_type": "markdown",
   "metadata": {},
   "source": [
    "## Correlation of all features "
   ]
  },
  {
   "cell_type": "code",
   "execution_count": null,
   "metadata": {
    "collapsed": false
   },
   "outputs": [],
   "source": [
    "#Correlation Matrix \n",
    "df_5_CorrelationMatrix = pd.DataFrame(df_5.corr())\n",
    "df_5_CorrelationMatrix\n",
    "#df_5_CorrelationMatrix.to_csv('Correlation_Matrix.csv')"
   ]
  },
  {
   "cell_type": "code",
   "execution_count": null,
   "metadata": {
    "collapsed": false
   },
   "outputs": [],
   "source": [
    "#Create Correlation Matrix plot \n",
    "\n",
    "# Generate a mask for the upper triangle\n",
    "mask = np.zeros_like(df_5_CorrelationMatrix, dtype=np.bool)\n",
    "mask[np.triu_indices_from(mask)] = True\n",
    "\n",
    "# Set up the matplotlib figure\n",
    "f, ax = plt.subplots(figsize=(11, 9))\n",
    "\n",
    "# Generate a custom diverging colormap\n",
    "cmap = sns.diverging_palette(220, 10, as_cmap=True)\n",
    "\n",
    "# Draw the heatmap with the mask and correct aspect ratio\n",
    "sns.heatmap(df_5_CorrelationMatrix, mask=mask, cmap=cmap, vmax=.3,\n",
    "            square=True, xticklabels=5, yticklabels=5,\n",
    "            linewidths=.5, cbar_kws={\"shrink\": .5}, ax=ax)"
   ]
  },
  {
   "cell_type": "markdown",
   "metadata": {},
   "source": [
    "Surprisingly, the correlation matrix shows that days on market in DC area doesn’t have any correlation with any of the features used in our analysis. This is quite contrary to our initial hypothesis and the perception of the majority in real estate market. \n",
    "\n",
    "However, we have observed some interesting relationship among other features in our analysis. We can see some correlation between values of property and no of bed room and bathroom as well as average family adjusted income. Median value per square feet is highly correlated with percentage of employed population, income, Zillow home value index and no ofPercentage change in home value is also related with price index and proportion of current mortgage payments in each market, and the local employment picture (mimi) and Freddie Mac's DC house price index (PriceIndex) as well as the dates the property was put on market.\n",
    "\n",
    "The data also shows high correlation between property and violent crimes and public school ranking, which shows the impact of low ranking school in neighborhood peace. There is also a negative relationship between violent crime and Zillow's median estimated home value (Zhvi) which depicts the impact of crime on neighborhood property value. \n",
    "\n",
    "There is high correlation between the average family income and the Zillow home value index as well as median value per square feet. And a high negative relationship between family income and public school ranking. \n",
    "We have can also see that areas with properties having many children have high crime rate and unemployed but on the contrary they are located in areas where public school ranking is higher. \n",
    "\n",
    "There is some correlation between proximity of properties to grocery store and median value per square feet of properties and turnover - percentage of all homes in the home's zip area that sold in the past 12 months from the closing date as well as employment. \n",
    "We can also see some positive correlation between accessibility of metro bus and metro stations and property crimes reported in DC. And a negative correlation between median value per square feet of properties and proximity to grocery stores.  Value of property in DC is not related to the proximity of grocery stores. And the Value of property in DC is has low correlation with the proximity to metro stations and schools\n",
    "\n",
    "The date the property is listed on market is highly correlated with Mimi- (proportion of current mortgage payments in each market, and the local employment picture), Price Index (Freddie Mac's DC house price index) and percentage of homes increasing in value. \n"
   ]
  },
  {
   "cell_type": "code",
   "execution_count": null,
   "metadata": {
    "collapsed": false
   },
   "outputs": [],
   "source": [
    "# Correlation heatmap\n",
    "f, ax = plt.subplots(figsize=(25,20))\n",
    "heat_map = sns.heatmap(df_4.corr(),vmax =0.8,square=True)\n",
    "fig = heat_map.get_figure()\n",
    "fig.savefig('correlation_heatmap_plot')\n",
    "fig.show()\n",
    "fig.savefig(\"Correlation_Heatmap.png\")\n"
   ]
  },
  {
   "cell_type": "markdown",
   "metadata": {},
   "source": [
    "## Analysis of DC Realestate Market "
   ]
  },
  {
   "cell_type": "code",
   "execution_count": null,
   "metadata": {
    "collapsed": false
   },
   "outputs": [],
   "source": [
    "df_4['Selling Margin']=df_4['ClosePrice2']-df_4['ListPrice2']\n",
    "df_4['ListDate_dt_year']\n",
    "df_4['ListDate_dt_month']\n",
    "#import plotly \n",
    "#plotly.tools.set_credentials_file(username='sabel1979', api_key='PIj8VFCq7hY6s2MXKR2b')\n",
    "x = df_4['ListDate_dt_year']\n",
    "y = df_4['Selling Margin']\n",
    "\n",
    "plt.plot(x,y)\n",
    "plt.tight_layout()\n",
    "\n",
    "fig = plt.gcf()\n",
    "plotly_fig = tls.mpl_to_plotly( fig )\n",
    "\n",
    "plotly_url = py.plot(plotly_fig, filename='Annual Selling Margin')"
   ]
  },
  {
   "cell_type": "code",
   "execution_count": null,
   "metadata": {
    "collapsed": false,
    "scrolled": true
   },
   "outputs": [],
   "source": []
  },
  {
   "cell_type": "markdown",
   "metadata": {},
   "source": [
    "# Analysis of DC properties by Zip Code"
   ]
  },
  {
   "cell_type": "code",
   "execution_count": null,
   "metadata": {
    "collapsed": true
   },
   "outputs": [],
   "source": []
  },
  {
   "cell_type": "markdown",
   "metadata": {},
   "source": [
    "Since we didn't see any relationship between our target variable- days on market and all of the other feautures, we will be further breaking down our properites and features by zipcode. "
   ]
  },
  {
   "cell_type": "code",
   "execution_count": null,
   "metadata": {
    "collapsed": false
   },
   "outputs": [],
   "source": [
    "df_5['DOMP'].hist(by=df_5['Zip'],figsize=(25,25))"
   ]
  },
  {
   "cell_type": "code",
   "execution_count": null,
   "metadata": {
    "collapsed": false
   },
   "outputs": [],
   "source": [
    "#Values per zipcode \n",
    "groupby_Zip=df_5.groupby(df_5['Zip'])\n",
    "Zip_Summary_Stat=groupby_Zip.describe()\n",
    "#df.groupby(df_5['Zip']).to_csv('Zip_Summary.csv')\n",
    "#Zip_Summary_Stat.to_csv('Zip_summary_stat.csv')\n",
    "Zip_Summary_Stat\n",
    "\n"
   ]
  },
  {
   "cell_type": "markdown",
   "metadata": {},
   "source": [
    "## Correlation of features per zipcode "
   ]
  },
  {
   "cell_type": "code",
   "execution_count": null,
   "metadata": {
    "collapsed": false
   },
   "outputs": [],
   "source": [
    "df_5a_Correlation= df_5.groupby('Zip').corr()\n",
    "df_5a_Correlation.to_csv('Correlation_Matrix_by_Zipcode.csv')"
   ]
  },
  {
   "cell_type": "code",
   "execution_count": null,
   "metadata": {
    "collapsed": false
   },
   "outputs": [],
   "source": [
    "\n",
    "## Pairplot on selected featureses\n",
    "#pair_plot = sns.pairplot(df_5a)\n",
    "#fig = pair_plot.get_figure()\n",
    "#fig.savefig('pair_plot')\n",
    "#fig.show"
   ]
  },
  {
   "cell_type": "markdown",
   "metadata": {},
   "source": [
    "### Average values of features per zipcode "
   ]
  },
  {
   "cell_type": "code",
   "execution_count": null,
   "metadata": {
    "collapsed": false
   },
   "outputs": [],
   "source": [
    "# Average value per zip code\n",
    "df_Avg_zip=pd.DataFrame()\n",
    "df_Avg_zip['Avg_DOMP']=(df_5.groupby(['Zip'])['DOMP'].mean())\n",
    "df_Avg_zip['Avg_ListPrice']=(df_5.groupby(['Zip'])['ListPrice2'].mean())\n",
    "df_Avg_zip['Avg_ClosePrice']=(df_5.groupby(['Zip'])['ClosePrice2'].mean())\n",
    "\n",
    "df_Avg_zip['Avg_pctofhomedecreastingvalues']=(df_5.groupby(['Zip'])['PctOfHomesDecreasingInValues'].mean())\n",
    "df_Avg_zip['Avg_pctofhomeincreasingvalues']=(df_5.groupby(['Zip'])['PctOfHomesIncreasingInValues'].mean())\n",
    "df_Avg_zip['Avg_PropertyCrimes ']=(df_5.groupby(['Zip'])['PropertyCrimes'].mean())\n",
    "df_Avg_zip['Avg_ViolentCrimes ']=(df_5.groupby(['Zip'])['ViolentCrimes'].mean())\n",
    "\n",
    "df_Avg_zip.hist(figsize=(25,25))\n",
    "\n"
   ]
  },
  {
   "cell_type": "code",
   "execution_count": null,
   "metadata": {
    "collapsed": false
   },
   "outputs": [],
   "source": [
    "df_Avg_zip"
   ]
  },
  {
   "cell_type": "code",
   "execution_count": null,
   "metadata": {
    "collapsed": false,
    "scrolled": true
   },
   "outputs": [],
   "source": [
    "#Correlation of Average values per zipcode\n",
    "df_Avg_Zip_CorrelationMatrix = pd.DataFrame(df_Avg_zip.corr())\n",
    "df_Avg_Zip_CorrelationMatrix\n",
    "#df_Avg_Zip_CorrelationMatrix.to_csv('Avg_Zip_Correlation_Matrix.csv')"
   ]
  },
  {
   "cell_type": "code",
   "execution_count": null,
   "metadata": {
    "collapsed": false
   },
   "outputs": [],
   "source": [
    "#Create Correlation Matrix plot \n",
    "\n",
    "# Generate a mask for the upper triangle\n",
    "mask = np.zeros_like(df_Avg_Zip_CorrelationMatrix, dtype=np.bool)\n",
    "mask[np.triu_indices_from(mask)] = True\n",
    "\n",
    "# Set up the matplotlib figure\n",
    "f, ax = plt.subplots(figsize=(11, 9))\n",
    "\n",
    "# Generate a custom diverging colormap\n",
    "cmap = sns.diverging_palette(220, 10, as_cmap=True)\n",
    "\n",
    "# Draw the heatmap with the mask and correct aspect ratio\n",
    "sns.heatmap(df_Avg_Zip_CorrelationMatrix, mask=mask, cmap=cmap, vmax=.3,\n",
    "            square=True, xticklabels=5, yticklabels=5,\n",
    "            linewidths=.5, cbar_kws={\"shrink\": .5}, ax=ax)\n"
   ]
  },
  {
   "cell_type": "markdown",
   "metadata": {},
   "source": [
    "## Trend Analysis "
   ]
  },
  {
   "cell_type": "markdown",
   "metadata": {},
   "source": [
    "### Average values of features by list date month year"
   ]
  },
  {
   "cell_type": "code",
   "execution_count": null,
   "metadata": {
    "collapsed": false
   },
   "outputs": [],
   "source": [
    "#List month and year analysis \n",
    "\n",
    "df_listdate=pd.DataFrame()\n",
    "df_listdate['Avg_pctofhomedecreastingvalues']=(df_5.groupby(['ListDate_MonthYear'])['PctOfHomesDecreasingInValues'].mean())\n",
    "df_listdate['Avg_pctofhomeincreasingvalues']=(df_5.groupby(['ListDate_MonthYear'])['PctOfHomesIncreasingInValues'].mean())\n",
    "df_listdate['Avg_ListPrice']=(df_5.groupby(['ListDate_MonthYear'])['ListPrice2'].mean())\n",
    "df_listdate['Avg_ClosePrice']=(df_5.groupby(['ListDate_MonthYear'])['ClosePrice2'].mean())\n",
    "df_listdate['Avg_DOMP']=(df_5.groupby(['ListDate_MonthYear'])['DOMP'].mean())\n",
    "df_listdate['Turnover']=(df_5.groupby(['ListDate_MonthYear'])['Turnover'].mean()\n",
    "df_listdate['Turnover']=(df_5.groupby(['ListDate_MonthYear'])[''].mean()                         \n",
    "df_listdate\n"
   ]
  },
  {
   "cell_type": "code",
   "execution_count": null,
   "metadata": {
    "collapsed": true
   },
   "outputs": [],
   "source": [
    "# Analysis of some features \n",
    "df_4a=df_4[[\n",
    "\n",
    "'ListPrice2',\n",
    "'ClosePrice2',\n",
    "'Acres',\n",
    "'YearBuilt',\n",
    "'DOMP',\n",
    "'TaxTotalLivingArea',\n",
    "'SaleCount',\n",
    "'MedianValuePerSqft',\n",
    "'Zhvi',\n",
    "'PriceIndex',\n",
    "'FreddieMac15yr',\n",
    "'FreddieMac5yrARM',\n",
    "'mimi',\n",
    "'PropertyCrimes',\n",
    "'ViolentCrimes']]"
   ]
  },
  {
   "cell_type": "code",
   "execution_count": null,
   "metadata": {
    "collapsed": false
   },
   "outputs": [],
   "source": [
    "#Plotting DOMP over list date \n",
    "import plotly.plotly as py\n",
    "import plotly.graph_objs as go\n",
    "\n",
    "x = dt(year=df_4['ListDate_dt_year'], month= df_4['ListDate_dt_month']\n",
    ",day= df_4['ListDate_dt_day'])\n",
    "y=df_4['DOMP']\n",
    "data = [go.Scatter(x=x,y=df_4['DOMP'])]\n",
    "py.iplot(data)\n",
    "\n"
   ]
  },
  {
   "cell_type": "code",
   "execution_count": null,
   "metadata": {
    "collapsed": false
   },
   "outputs": [],
   "source": [
    "# Timeseries plottin of DOMP on Listdate.\n",
    "dates = pd.date_range('2009-12', '2015-01', freq='M')\n",
    "\n",
    "\n",
    "x = np.array(dt.datetime(df_4['CloseDate_dt_year']))\n",
    "y = (df_4['DOMP'])\n",
    "\n",
    "plt.plot(x,y)\n",
    "plt.show()"
   ]
  },
  {
   "cell_type": "code",
   "execution_count": null,
   "metadata": {
    "collapsed": false
   },
   "outputs": [],
   "source": [
    "#Box plot of DOMP per zip code\n",
    "\n",
    "g = sns.FacetGrid(df_4, col='Zip', size=20, aspect=.2)\n",
    "g = g.map(sns.boxplot, 'DOMP', 'ClosePrice2')\n",
    "sns.plt.show()"
   ]
  },
  {
   "cell_type": "markdown",
   "metadata": {
    "collapsed": true
   },
   "source": [
    "### Analysis/Modelling continued in Modelling script"
   ]
  }
 ],
 "metadata": {
  "anaconda-cloud": {},
  "kernelspec": {
   "display_name": "Python [Root]",
   "language": "python",
   "name": "Python [Root]"
  },
  "language_info": {
   "codemirror_mode": {
    "name": "ipython",
    "version": 2
   },
   "file_extension": ".py",
   "mimetype": "text/x-python",
   "name": "python",
   "nbconvert_exporter": "python",
   "pygments_lexer": "ipython2",
   "version": "2.7.12"
  },
  "widgets": {
   "state": {},
   "version": "1.1.2"
  }
 },
 "nbformat": 4,
 "nbformat_minor": 0
}
