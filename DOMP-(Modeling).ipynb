{
 "cells": [
  {
   "cell_type": "markdown",
   "metadata": {},
   "source": [
    "## Packages"
   ]
  },
  {
   "cell_type": "code",
   "execution_count": 1,
   "metadata": {
    "collapsed": false
   },
   "outputs": [
    {
     "name": "stderr",
     "output_type": "stream",
     "text": [
      "C:\\Users\\Sabelgk\\Anaconda3\\lib\\site-packages\\sklearn\\cross_validation.py:44: DeprecationWarning: This module was deprecated in version 0.18 in favor of the model_selection module into which all the refactored classes and functions are moved. Also note that the interface of the new CV iterators are different from that of this module. This module will be removed in 0.20.\n",
      "  \"This module will be removed in 0.20.\", DeprecationWarning)\n"
     ]
    }
   ],
   "source": [
    "%matplotlib inline\n",
    "\n",
    "import os\n",
    "import requests\n",
    "import pandas as pd \n",
    "import matplotlib.pyplot as plt\n",
    "\n",
    "from pandas.tools.plotting import scatter_matrix\n",
    "\n",
    "from sklearn import cross_validation as cv\n",
    "from sklearn.cross_validation import train_test_split as tts\n",
    "\n",
    "from sklearn.linear_model import Ridge\n",
    "from sklearn.linear_model import RandomizedLasso\n",
    "from sklearn.linear_model import LinearRegression\n",
    "from sklearn.ensemble import RandomForestRegressor\n",
    "\n",
    "from sklearn.metrics import r2_score\n",
    "from sklearn.metrics import mean_squared_error as mse"
   ]
  },
  {
   "cell_type": "code",
   "execution_count": 2,
   "metadata": {
    "collapsed": false
   },
   "outputs": [
    {
     "name": "stdout",
     "output_type": "stream",
     "text": [
      "<class 'pandas.core.frame.DataFrame'>\n",
      "RangeIndex: 21687 entries, 0 to 21686\n",
      "Data columns (total 77 columns):\n",
      "Unnamed: 0                                    21687 non-null int64\n",
      "ListPrice2                                    21687 non-null int64\n",
      "ClosePrice2                                   21687 non-null int64\n",
      "Bedrooms                                      21687 non-null int64\n",
      "BathsFull                                     21687 non-null int64\n",
      "BathsHalf                                     21687 non-null float64\n",
      "Levels                                        21687 non-null int64\n",
      "Fireplaces                                    21687 non-null int64\n",
      "BasementY/N                                   21687 non-null int64\n",
      "Acres                                         21687 non-null float64\n",
      "YearBuilt                                     21687 non-null int64\n",
      "DOMP                                          21687 non-null int64\n",
      "TotalTaxes2                                   21687 non-null float64\n",
      "TaxTotalLivingArea                            21687 non-null float64\n",
      "Zip                                           21687 non-null int64\n",
      "SaleCount                                     21687 non-null int64\n",
      "MedianValuePerSqft                            21687 non-null float64\n",
      "PctOfHomesDecreasingInValues                  21687 non-null float64\n",
      "PctOfHomesIncreasingInValues                  21687 non-null float64\n",
      "Turnover                                      21687 non-null float64\n",
      "Zhvi                                          21687 non-null float64\n",
      "PriceIndex                                    21687 non-null float64\n",
      "FreddieMac15yr                                21687 non-null float64\n",
      "FreddieMac5yrARM                              21687 non-null float64\n",
      "mimi                                          21687 non-null float64\n",
      "mimiStatus                                    21687 non-null float64\n",
      "PropertyCrimes                                21687 non-null float64\n",
      "ViolentCrimes                                 21687 non-null float64\n",
      "Pct16andOverEmployed_2010_14                  21687 non-null float64\n",
      "AvgFamilyIncAdj_2010_14                       21687 non-null float64\n",
      "Pct25andOverWoutHS_2010_14                    21687 non-null float64\n",
      "PctFamiliesOwnChildrenFH_2010_14              21687 non-null float64\n",
      "PctForeignBorn_2010_14                        21687 non-null float64\n",
      "PctHshldCar_2010_14                           21687 non-null float64\n",
      "PctHshldPhone_2010_14                         21687 non-null float64\n",
      "PctOwnerOccupiedHsgUnits_2010_14              21687 non-null float64\n",
      "PctPoorChildren_2010_14                       21687 non-null float64\n",
      "PctPoorElderly_2010_14                        21687 non-null float64\n",
      "PctPoorPersons_2010_14                        21687 non-null float64\n",
      "PctUnemployed_2010_14                         21687 non-null float64\n",
      "PctVacantHsgUnitsForRent_2010_14              21687 non-null float64\n",
      "PropertyLatitude                              21687 non-null float64\n",
      "PropertyLongitude                             21687 non-null float64\n",
      "count_cap_gain_school_km                      21687 non-null int64\n",
      "count_grocery_km                              21687 non-null int64\n",
      "count_ind_school_km                           21687 non-null int64\n",
      "count_metro_bus_km                            21687 non-null int64\n",
      "count_metro_station_km                        21687 non-null int64\n",
      "count_public_school_arts_center_km            21687 non-null int64\n",
      "count_public_school_edu_campus_km             21687 non-null int64\n",
      "count_public_school_elem_km                   21687 non-null int64\n",
      "count_public_school_elem_specialized_km       21687 non-null int64\n",
      "count_public_school_high_km                   21687 non-null int64\n",
      "count_public_school_high_specialized_km       21687 non-null int64\n",
      "count_public_school_mid_km                    21687 non-null int64\n",
      "count_public_school_special_ed_km             21687 non-null int64\n",
      "count_public_school_ye_km                     21687 non-null int64\n",
      "distance_cap_gain_school_km                   21687 non-null float64\n",
      "distance_grocery_km                           21687 non-null float64\n",
      "distance_ind_school_km                        21687 non-null float64\n",
      "distance_metro_bus_km                         21687 non-null float64\n",
      "distance_metro_station_km                     21687 non-null float64\n",
      "distance_public_school_arts_center_km         21687 non-null float64\n",
      "distance_public_school_edu_campus_km          21687 non-null float64\n",
      "distance_public_school_elem_km                21687 non-null float64\n",
      "distance_public_school_elem_specialized_km    21687 non-null float64\n",
      "distance_public_school_high_km                21687 non-null float64\n",
      "distance_public_school_high_specialized_km    21687 non-null float64\n",
      "distance_public_school_mid_km                 21687 non-null float64\n",
      "distance_public_school_special_ed_km          21687 non-null float64\n",
      "distance_public_school_ye_km                  21687 non-null float64\n",
      "CloseDate_dt_year                             21687 non-null int64\n",
      "CloseDate_dt_month                            21687 non-null int64\n",
      "CloseDate_dt_day                              21687 non-null int64\n",
      "ListDate_dt_year                              21687 non-null int64\n",
      "ListDate_dt_month                             21687 non-null int64\n",
      "ListDate_dt_day                               21687 non-null int64\n",
      "dtypes: float64(45), int64(32)\n",
      "memory usage: 12.7 MB\n"
     ]
    }
   ],
   "source": [
    "FM_1 =pd.read_csv(\"C:/Users/Sabelgk/Desktop/all/Data Science/GeorgeTown/Days on Market project/Analysis,Modelling_scripts,results_JB/df_4.csv\")\n",
    "FM_1.info()"
   ]
  },
  {
   "cell_type": "code",
   "execution_count": 3,
   "metadata": {
    "collapsed": false
   },
   "outputs": [],
   "source": [
    "FM_1 = pd.DataFrame(FM_1)\n",
    "#Dropping some features which are not predictive\n",
    "FM_1=FM_1.drop(FM_1.columns[[0]], axis=1)\n",
    "FM_1=FM_1.drop('CloseDate_dt_year', axis=1)\n",
    "FM_1=FM_1.drop('CloseDate_dt_month', axis=1)\n",
    "FM_1=FM_1.drop('CloseDate_dt_day', axis=1)"
   ]
  },
  {
   "cell_type": "code",
   "execution_count": 4,
   "metadata": {
    "collapsed": true
   },
   "outputs": [],
   "source": [
    "features= FM_1.drop('DOMP', axis=1)\n",
    "labels   = FM_1['DOMP']"
   ]
  },
  {
   "cell_type": "code",
   "execution_count": 5,
   "metadata": {
    "collapsed": false
   },
   "outputs": [
    {
     "name": "stdout",
     "output_type": "stream",
     "text": [
      "Features sorted by their score:\n",
      "[(0.47999999999999998, 'ListDate_dt_year'), (0.46500000000000002, 'PctOfHomesDecreasingInValues'), (0.38500000000000001, 'PctOfHomesIncreasingInValues'), (0.29499999999999998, 'PriceIndex'), (0.029999999999999999, 'mimi'), (0.0, 'mimiStatus'), (0.0, 'distance_public_school_ye_km'), (0.0, 'distance_public_school_special_ed_km'), (0.0, 'distance_public_school_mid_km'), (0.0, 'distance_public_school_high_specialized_km'), (0.0, 'distance_public_school_high_km'), (0.0, 'distance_public_school_elem_specialized_km'), (0.0, 'distance_public_school_elem_km'), (0.0, 'distance_public_school_edu_campus_km'), (0.0, 'distance_public_school_arts_center_km'), (0.0, 'distance_metro_station_km'), (0.0, 'distance_metro_bus_km'), (0.0, 'distance_ind_school_km'), (0.0, 'distance_grocery_km'), (0.0, 'distance_cap_gain_school_km'), (0.0, 'count_public_school_ye_km'), (0.0, 'count_public_school_special_ed_km'), (0.0, 'count_public_school_mid_km'), (0.0, 'count_public_school_high_specialized_km'), (0.0, 'count_public_school_high_km'), (0.0, 'count_public_school_elem_specialized_km'), (0.0, 'count_public_school_elem_km'), (0.0, 'count_public_school_edu_campus_km'), (0.0, 'count_public_school_arts_center_km'), (0.0, 'count_metro_station_km'), (0.0, 'count_metro_bus_km'), (0.0, 'count_ind_school_km'), (0.0, 'count_grocery_km'), (0.0, 'count_cap_gain_school_km'), (0.0, 'Zip'), (0.0, 'Zhvi'), (0.0, 'YearBuilt'), (0.0, 'ViolentCrimes'), (0.0, 'Turnover'), (0.0, 'TotalTaxes2'), (0.0, 'TaxTotalLivingArea'), (0.0, 'SaleCount'), (0.0, 'PropertyLongitude'), (0.0, 'PropertyLatitude'), (0.0, 'PropertyCrimes'), (0.0, 'PctVacantHsgUnitsForRent_2010_14'), (0.0, 'PctUnemployed_2010_14'), (0.0, 'PctPoorPersons_2010_14'), (0.0, 'PctPoorElderly_2010_14'), (0.0, 'PctPoorChildren_2010_14'), (0.0, 'PctOwnerOccupiedHsgUnits_2010_14'), (0.0, 'PctHshldPhone_2010_14'), (0.0, 'PctHshldCar_2010_14'), (0.0, 'PctForeignBorn_2010_14'), (0.0, 'PctFamiliesOwnChildrenFH_2010_14'), (0.0, 'Pct25andOverWoutHS_2010_14'), (0.0, 'Pct16andOverEmployed_2010_14'), (0.0, 'MedianValuePerSqft'), (0.0, 'ListPrice2'), (0.0, 'ListDate_dt_month'), (0.0, 'ListDate_dt_day'), (0.0, 'Levels'), (0.0, 'FreddieMac5yrARM'), (0.0, 'FreddieMac15yr'), (0.0, 'Fireplaces'), (0.0, 'ClosePrice2'), (0.0, 'Bedrooms'), (0.0, 'BathsHalf'), (0.0, 'BathsFull'), (0.0, 'BasementY/N'), (0.0, 'AvgFamilyIncAdj_2010_14'), (0.0, 'Acres')]\n"
     ]
    }
   ],
   "source": [
    "model = RandomizedLasso(alpha=0.1)\n",
    "model.fit(features, labels)\n",
    "names = list(features)\n",
    "\n",
    "print(\"Features sorted by their score:\")\n",
    "print(sorted(zip(map(lambda x: round(x, 4), model.scores_), \n",
    "                 names), reverse=True))"
   ]
  },
  {
   "cell_type": "code",
   "execution_count": 6,
   "metadata": {
    "collapsed": true
   },
   "outputs": [],
   "source": [
    "splits = cv.train_test_split(features, labels, test_size=0.2)\n",
    "X_train, X_test, y_train, y_test = splits"
   ]
  },
  {
   "cell_type": "code",
   "execution_count": 7,
   "metadata": {
    "collapsed": false
   },
   "outputs": [
    {
     "name": "stdout",
     "output_type": "stream",
     "text": [
      "Ridge Regression model\n",
      "Mean Squared Error: 5541.651\n",
      "Coefficient of Determination: 0.156\n"
     ]
    }
   ],
   "source": [
    "model = Ridge(alpha=0.1)\n",
    "model.fit(X_train, y_train)\n",
    "\n",
    "expected = y_test\n",
    "predicted = model.predict(X_test)\n",
    "\n",
    "print(\"Ridge Regression model\")\n",
    "print(\"Mean Squared Error: %0.3f\" % mse(expected, predicted))\n",
    "print(\"Coefficient of Determination: %0.3f\" % r2_score(expected, predicted))"
   ]
  },
  {
   "cell_type": "code",
   "execution_count": 8,
   "metadata": {
    "collapsed": false
   },
   "outputs": [
    {
     "name": "stdout",
     "output_type": "stream",
     "text": [
      "Linear Regression model\n",
      "Mean Squared Error: 5540.848\n",
      "Coefficient of Determination: 0.156\n"
     ]
    }
   ],
   "source": [
    "model = LinearRegression()\n",
    "model.fit(X_train, y_train)\n",
    "\n",
    "expected = y_test\n",
    "predicted = model.predict(X_test)\n",
    "\n",
    "print(\"Linear Regression model\")\n",
    "print(\"Mean Squared Error: %0.3f\" % mse(expected, predicted))\n",
    "print(\"Coefficient of Determination: %0.3f\" % r2_score(expected, predicted))"
   ]
  },
  {
   "cell_type": "code",
   "execution_count": 10,
   "metadata": {
    "collapsed": false
   },
   "outputs": [
    {
     "name": "stdout",
     "output_type": "stream",
     "text": [
      "Random Forest model\n",
      "Mean squared error = 6064.822\n",
      "R2 score = 0.076\n"
     ]
    }
   ],
   "source": [
    "model = RandomForestRegressor()\n",
    "model.fit(X_train, y_train)\n",
    "\n",
    "expected = y_test\n",
    "predicted = model.predict(X_test)\n",
    "\n",
    "print(\"Random Forest model\")\n",
    "print(\"Mean squared error = %0.3f\" % mse(expected, predicted))\n",
    "print(\"R2 score = %0.3f\" % r2_score(expected, predicted))"
   ]
  },
  {
   "cell_type": "code",
   "execution_count": null,
   "metadata": {
    "collapsed": true
   },
   "outputs": [],
   "source": []
  }
 ],
 "metadata": {
  "anaconda-cloud": {},
  "kernelspec": {
   "display_name": "Python [Root]",
   "language": "python",
   "name": "Python [Root]"
  },
  "language_info": {
   "codemirror_mode": {
    "name": "ipython",
    "version": 3
   },
   "file_extension": ".py",
   "mimetype": "text/x-python",
   "name": "python",
   "nbconvert_exporter": "python",
   "pygments_lexer": "ipython3",
   "version": "3.5.2"
  }
 },
 "nbformat": 4,
 "nbformat_minor": 0
}
